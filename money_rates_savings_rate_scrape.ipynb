{
 "cells": [
  {
   "cell_type": "markdown",
   "metadata": {},
   "source": [
    "## Money Rates High Yield Savings"
   ]
  },
  {
   "cell_type": "markdown",
   "metadata": {},
   "source": [
    "### Overview"
   ]
  },
  {
   "cell_type": "markdown",
   "metadata": {},
   "source": [
    "The following script collects high-yielding saving accounts from Money Rates within the 50-100K range. It should be noted Money Rates changes the accounts included within the list regularly, so the sample will vary."
   ]
  },
  {
   "cell_type": "markdown",
   "metadata": {},
   "source": [
    "### Import Modules"
   ]
  },
  {
   "cell_type": "code",
   "execution_count": 1,
   "metadata": {},
   "outputs": [],
   "source": [
    "import pandas as pd\n",
    "import bs4 as bs\n",
    "import requests \n",
    "import numpy as np"
   ]
  },
  {
   "cell_type": "markdown",
   "metadata": {},
   "source": [
    "### Extract HTML from website"
   ]
  },
  {
   "cell_type": "code",
   "execution_count": 2,
   "metadata": {},
   "outputs": [],
   "source": [
    "resp = requests.get('https://accounts.money-rates.com/savings-and-money-markets')\n",
    "soup = bs.BeautifulSoup(resp.text, \"lxml\")"
   ]
  },
  {
   "cell_type": "markdown",
   "metadata": {},
   "source": [
    "### Obtain bank CD list"
   ]
  },
  {
   "cell_type": "code",
   "execution_count": 19,
   "metadata": {
    "scrolled": false
   },
   "outputs": [
    {
     "data": {
      "text/plain": [
       "['Simple Bank', 'American Express National Bank', 'Marcus by Goldman Sachs']"
      ]
     },
     "execution_count": 19,
     "metadata": {},
     "output_type": "execute_result"
    }
   ],
   "source": [
    "cd_rows = []\n",
    "for row in soup.findAll('p', {'class': 'company_name'}):\n",
    "    row2 = row.text.strip() # string removes blanks\n",
    "    cd_rows.append(row2)\n",
    "    \n",
    "cd_rows"
   ]
  },
  {
   "cell_type": "markdown",
   "metadata": {},
   "source": [
    "### Data on APY Rates"
   ]
  },
  {
   "cell_type": "code",
   "execution_count": 20,
   "metadata": {},
   "outputs": [
    {
     "data": {
      "text/plain": [
       "['1.40', '1.30', '1.30']"
      ]
     },
     "execution_count": 20,
     "metadata": {},
     "output_type": "execute_result"
    }
   ],
   "source": [
    "cd_rates_ls = []\n",
    "for row in soup.findAll('div', {'class': 'rate_apy'}):\n",
    "    cd_rates_ls.append(row.text.strip()[0:4])\n",
    "    \n",
    "cd_rates_ls"
   ]
  },
  {
   "cell_type": "markdown",
   "metadata": {},
   "source": [
    "### Data on Rate Specifications"
   ]
  },
  {
   "cell_type": "markdown",
   "metadata": {},
   "source": [
    "##### Data on APY Rates Type"
   ]
  },
  {
   "cell_type": "code",
   "execution_count": 21,
   "metadata": {},
   "outputs": [
    {
     "data": {
      "text/plain": [
       "['Checking', 'Savings', 'Savings']"
      ]
     },
     "execution_count": 21,
     "metadata": {},
     "output_type": "execute_result"
    }
   ],
   "source": [
    "rate_type_ls = []\n",
    "for row in soup.findAll('span', {'class': 'rate_type_value'}):\n",
    "    rate_type_ls.append(row.text.strip())\n",
    "\n",
    "rate_type_ls"
   ]
  },
  {
   "cell_type": "markdown",
   "metadata": {},
   "source": [
    "##### Data on APY Monthly Fees"
   ]
  },
  {
   "cell_type": "code",
   "execution_count": 22,
   "metadata": {},
   "outputs": [
    {
     "data": {
      "text/plain": [
       "['$0.00', '$0.00', '$0.00']"
      ]
     },
     "execution_count": 22,
     "metadata": {},
     "output_type": "execute_result"
    }
   ],
   "source": [
    "rate_fee_ls = []\n",
    "for row in soup.findAll('span', {'class': 'monthly_fee_value'}):\n",
    "    rate_fee_ls.append(row.text.strip())\n",
    "    \n",
    "rate_fee_ls"
   ]
  },
  {
   "cell_type": "markdown",
   "metadata": {},
   "source": [
    "##### Data on APY Min To Open"
   ]
  },
  {
   "cell_type": "code",
   "execution_count": 23,
   "metadata": {},
   "outputs": [
    {
     "data": {
      "text/plain": [
       "['$0', '$1', '$0']"
      ]
     },
     "execution_count": 23,
     "metadata": {},
     "output_type": "execute_result"
    }
   ],
   "source": [
    "min_dep_ls = []\n",
    "for row in soup.findAll('span', {'class': 'min_to_open_value'}):\n",
    "    min_dep_ls.append(row.text.strip())\n",
    "\n",
    "min_dep_ls"
   ]
  },
  {
   "cell_type": "markdown",
   "metadata": {},
   "source": [
    "##### Data on Rate Date"
   ]
  },
  {
   "cell_type": "code",
   "execution_count": 24,
   "metadata": {},
   "outputs": [
    {
     "data": {
      "text/plain": [
       "['5/16/2020', '5/16/2020', '5/16/2020']"
      ]
     },
     "execution_count": 24,
     "metadata": {},
     "output_type": "execute_result"
    }
   ],
   "source": [
    "rate_date = []\n",
    "for row in soup.findAll('div', {'class': 'rates_date'}):\n",
    "    rate_date.append(row.text.strip().split()[-1])\n",
    "    \n",
    "rate_date"
   ]
  },
  {
   "cell_type": "markdown",
   "metadata": {},
   "source": [
    "### Merge and Finalize DataFrame"
   ]
  },
  {
   "cell_type": "code",
   "execution_count": 25,
   "metadata": {},
   "outputs": [
    {
     "data": {
      "text/plain": [
       "[['1.40', '1.30', '1.30'],\n",
       " ['Checking', 'Savings', 'Savings'],\n",
       " ['$0.00', '$0.00', '$0.00'],\n",
       " ['$0', '$1', '$0'],\n",
       " ['5/16/2020', '5/16/2020', '5/16/2020']]"
      ]
     },
     "execution_count": 25,
     "metadata": {},
     "output_type": "execute_result"
    }
   ],
   "source": [
    "fullList = [cd_rates_ls] + [rate_type_ls] + [rate_fee_ls] + [min_dep_ls] + [rate_date]\n",
    "fullList"
   ]
  },
  {
   "cell_type": "code",
   "execution_count": 26,
   "metadata": {
    "scrolled": true
   },
   "outputs": [
    {
     "data": {
      "text/html": [
       "<div>\n",
       "<style scoped>\n",
       "    .dataframe tbody tr th:only-of-type {\n",
       "        vertical-align: middle;\n",
       "    }\n",
       "\n",
       "    .dataframe tbody tr th {\n",
       "        vertical-align: top;\n",
       "    }\n",
       "\n",
       "    .dataframe thead th {\n",
       "        text-align: right;\n",
       "    }\n",
       "</style>\n",
       "<table border=\"1\" class=\"dataframe\">\n",
       "  <thead>\n",
       "    <tr style=\"text-align: right;\">\n",
       "      <th></th>\n",
       "      <th>Rate APY</th>\n",
       "      <th>Type</th>\n",
       "      <th>Monthly Fee</th>\n",
       "      <th>Min to Earn APY</th>\n",
       "      <th>Rate as Of</th>\n",
       "    </tr>\n",
       "  </thead>\n",
       "  <tbody>\n",
       "    <tr>\n",
       "      <td>Simple Bank</td>\n",
       "      <td>1.40</td>\n",
       "      <td>Checking</td>\n",
       "      <td>$0.00</td>\n",
       "      <td>$0</td>\n",
       "      <td>5/16/2020</td>\n",
       "    </tr>\n",
       "    <tr>\n",
       "      <td>American Express National Bank</td>\n",
       "      <td>1.30</td>\n",
       "      <td>Savings</td>\n",
       "      <td>$0.00</td>\n",
       "      <td>$1</td>\n",
       "      <td>5/16/2020</td>\n",
       "    </tr>\n",
       "    <tr>\n",
       "      <td>Marcus by Goldman Sachs</td>\n",
       "      <td>1.30</td>\n",
       "      <td>Savings</td>\n",
       "      <td>$0.00</td>\n",
       "      <td>$0</td>\n",
       "      <td>5/16/2020</td>\n",
       "    </tr>\n",
       "  </tbody>\n",
       "</table>\n",
       "</div>"
      ],
      "text/plain": [
       "                               Rate APY      Type Monthly Fee Min to Earn APY  \\\n",
       "Simple Bank                        1.40  Checking       $0.00              $0   \n",
       "American Express National Bank     1.30   Savings       $0.00              $1   \n",
       "Marcus by Goldman Sachs            1.30   Savings       $0.00              $0   \n",
       "\n",
       "                               Rate as Of  \n",
       "Simple Bank                     5/16/2020  \n",
       "American Express National Bank  5/16/2020  \n",
       "Marcus by Goldman Sachs         5/16/2020  "
      ]
     },
     "execution_count": 26,
     "metadata": {},
     "output_type": "execute_result"
    }
   ],
   "source": [
    "col_ls = {0:'Rate APY',\n",
    "          1:'Type',\n",
    "          2:'Monthly Fee',\n",
    "          3:'Min to Earn APY',\n",
    "          4:'Rate as Of'}\n",
    "\n",
    "money_rates= pd.DataFrame(fullList).T.set_index([cd_rows]).rename(columns = col_ls)\n",
    "money_rates.to_csv('money-rates.csv')\n",
    "\n",
    "money_rates"
   ]
  },
  {
   "cell_type": "markdown",
   "metadata": {},
   "source": [
    "SOURCE: https://accounts.money-rates.com/savings-and-money-markets"
   ]
  }
 ],
 "metadata": {
  "kernelspec": {
   "display_name": "Python 3",
   "language": "python",
   "name": "python3"
  },
  "language_info": {
   "codemirror_mode": {
    "name": "ipython",
    "version": 3
   },
   "file_extension": ".py",
   "mimetype": "text/x-python",
   "name": "python",
   "nbconvert_exporter": "python",
   "pygments_lexer": "ipython3",
   "version": "3.7.4"
  }
 },
 "nbformat": 4,
 "nbformat_minor": 2
}
