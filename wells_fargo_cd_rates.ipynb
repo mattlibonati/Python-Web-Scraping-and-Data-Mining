{
 "cells": [
  {
   "cell_type": "markdown",
   "metadata": {},
   "source": [
    "### Import Modules"
   ]
  },
  {
   "cell_type": "code",
   "execution_count": 1,
   "metadata": {},
   "outputs": [],
   "source": [
    "import pandas as pd\n",
    "import bs4 as bs\n",
    "import requests \n",
    "import numpy as np"
   ]
  },
  {
   "cell_type": "markdown",
   "metadata": {},
   "source": [
    "### Extract HTML from websight"
   ]
  },
  {
   "cell_type": "code",
   "execution_count": 2,
   "metadata": {},
   "outputs": [],
   "source": [
    "resp = requests.get('https://www.wellsfargo.com/savings-cds/rates/')\n",
    "soup = bs.BeautifulSoup(resp.text, \"lxml\")"
   ]
  },
  {
   "cell_type": "markdown",
   "metadata": {},
   "source": [
    "### Term Length"
   ]
  },
  {
   "cell_type": "code",
   "execution_count": 3,
   "metadata": {},
   "outputs": [
    {
     "data": {
      "text/plain": [
       "['3 months',\n",
       " '3 months',\n",
       " '3 months',\n",
       " '3 months',\n",
       " '3 months',\n",
       " '3 months',\n",
       " '6 months',\n",
       " '6 months',\n",
       " '6 months',\n",
       " '6 months',\n",
       " '6 months',\n",
       " '6 months',\n",
       " '1 Year',\n",
       " '1 Year',\n",
       " '1 Year',\n",
       " '1 Year',\n",
       " '1 Year',\n",
       " '1 Year']"
      ]
     },
     "execution_count": 3,
     "metadata": {},
     "output_type": "execute_result"
    }
   ],
   "source": [
    "cd_term_standard = []\n",
    "for row in soup.findAll('th', {'headers': 'cdratestdterm'}):\n",
    "    cd_term_standard.append([row.text] * 6)\n",
    "    \n",
    "cd_term_standard = cd_term_standard[0] + cd_term_standard[1] + cd_term_standard[2]\n",
    "\n",
    "cd_term_standard"
   ]
  },
  {
   "cell_type": "markdown",
   "metadata": {},
   "source": [
    "### Obtain Interest Rate"
   ]
  },
  {
   "cell_type": "code",
   "execution_count": 4,
   "metadata": {},
   "outputs": [
    {
     "data": {
      "text/plain": [
       "['0.05%',\n",
       " '0.05%',\n",
       " '0.05%',\n",
       " '0.05%',\n",
       " '0.05%',\n",
       " '0.05%',\n",
       " '0.10%',\n",
       " '0.10%',\n",
       " '0.10%',\n",
       " '0.10%',\n",
       " '0.10%',\n",
       " '0.10%',\n",
       " '0.15%',\n",
       " '0.15%',\n",
       " '0.15%',\n",
       " '0.15%',\n",
       " '0.15%',\n",
       " '0.15%']"
      ]
     },
     "execution_count": 4,
     "metadata": {},
     "output_type": "execute_result"
    }
   ],
   "source": [
    "cd_int_standard = []\n",
    "for row in soup.findAll('td', {'headers': 'cdratestdintrate specterm'}):\n",
    "    cd_int_standard.append(row.text)\n",
    "    \n",
    "cd_int_standard"
   ]
  },
  {
   "cell_type": "markdown",
   "metadata": {},
   "source": [
    "### Obtain APY"
   ]
  },
  {
   "cell_type": "code",
   "execution_count": 5,
   "metadata": {},
   "outputs": [
    {
     "data": {
      "text/plain": [
       "['0.05%',\n",
       " '0.05%',\n",
       " '0.05%',\n",
       " '0.05%',\n",
       " '0.05%',\n",
       " '0.05%',\n",
       " '0.10%',\n",
       " '0.10%',\n",
       " '0.10%',\n",
       " '0.10%',\n",
       " '0.10%',\n",
       " '0.10%',\n",
       " '0.15%',\n",
       " '0.15%',\n",
       " '0.15%',\n",
       " '0.15%',\n",
       " '0.15%',\n",
       " '0.15%']"
      ]
     },
     "execution_count": 5,
     "metadata": {},
     "output_type": "execute_result"
    }
   ],
   "source": [
    "cd_apy_standard = []\n",
    "for row in soup.findAll('td', {'headers': 'cdratestdapy specterm'}):\n",
    "    cd_apy_standard.append(row.text)\n",
    "    \n",
    "cd_apy_standard"
   ]
  },
  {
   "cell_type": "markdown",
   "metadata": {},
   "source": [
    "### Bonus Interest"
   ]
  },
  {
   "cell_type": "code",
   "execution_count": 6,
   "metadata": {},
   "outputs": [
    {
     "data": {
      "text/plain": [
       "['0.08%',\n",
       " '0.08%',\n",
       " '0.08%',\n",
       " '0.08%',\n",
       " '0.08%',\n",
       " '0.08%',\n",
       " '0.13%',\n",
       " '0.13%',\n",
       " '0.13%',\n",
       " '0.13%',\n",
       " '0.13%',\n",
       " '0.13%',\n",
       " '0.18%',\n",
       " '0.18%',\n",
       " '0.18%',\n",
       " '0.18%',\n",
       " '0.18%',\n",
       " '0.18%']"
      ]
     },
     "execution_count": 6,
     "metadata": {},
     "output_type": "execute_result"
    }
   ],
   "source": [
    "cd_b_int_standard = []\n",
    "for row in soup.findAll('td', {'headers': 'cdratestdbintrate specterm'}):\n",
    "    cd_b_int_standard.append(row.text)\n",
    "    \n",
    "cd_b_int_standard"
   ]
  },
  {
   "cell_type": "markdown",
   "metadata": {},
   "source": [
    "### Bonus APY"
   ]
  },
  {
   "cell_type": "code",
   "execution_count": 7,
   "metadata": {},
   "outputs": [
    {
     "data": {
      "text/plain": [
       "['0.08%',\n",
       " '0.08%',\n",
       " '0.08%',\n",
       " '0.08%',\n",
       " '0.08%',\n",
       " '0.08%',\n",
       " '0.13%',\n",
       " '0.13%',\n",
       " '0.13%',\n",
       " '0.13%',\n",
       " '0.13%',\n",
       " '0.13%',\n",
       " '0.18%',\n",
       " '0.18%',\n",
       " '0.18%',\n",
       " '0.18%',\n",
       " '0.18%',\n",
       " '0.18%']"
      ]
     },
     "execution_count": 7,
     "metadata": {},
     "output_type": "execute_result"
    }
   ],
   "source": [
    "cd_b_apy_standard = []\n",
    "for row in soup.findAll('td', {'headers': 'cdratestdbbapy specterm'}):\n",
    "    cd_b_apy_standard.append(row.text)\n",
    "    \n",
    "cd_b_apy_standard"
   ]
  },
  {
   "cell_type": "markdown",
   "metadata": {},
   "source": [
    "### balance tier"
   ]
  },
  {
   "cell_type": "code",
   "execution_count": 8,
   "metadata": {},
   "outputs": [
    {
     "data": {
      "text/plain": [
       "['$0-$4999',\n",
       " '$5000-$9999',\n",
       " '$10000-$24999',\n",
       " '$25000-$49999',\n",
       " '$50000-$99999',\n",
       " '$100,000+',\n",
       " '$0-$4999',\n",
       " '$5000-$9999',\n",
       " '$10000-$24999',\n",
       " '$25000-$49999',\n",
       " '$50000-$99999',\n",
       " '$100,000+',\n",
       " '$0-$4999',\n",
       " '$5000-$9999',\n",
       " '$10000-$24999',\n",
       " '$25000-$49999',\n",
       " '$50000-$99999',\n",
       " '$100,000+']"
      ]
     },
     "execution_count": 8,
     "metadata": {},
     "output_type": "execute_result"
    }
   ],
   "source": [
    "cd_tier_standard = []\n",
    "for row in soup.findAll('td', {'headers': 'cdratestdbbaltier specterm'}):\n",
    "    row = row.text.strip()\n",
    "    row = row.replace('\\r','')\n",
    "    row = row.replace('\\n','')\n",
    "    row = row.replace('\\t','')\n",
    "    row = row.replace(' ','')\n",
    "    cd_tier_standard.append(row)\n",
    "    \n",
    "cd_tier_standard"
   ]
  },
  {
   "cell_type": "markdown",
   "metadata": {},
   "source": [
    "### Create Final Dataset"
   ]
  },
  {
   "cell_type": "code",
   "execution_count": 9,
   "metadata": {},
   "outputs": [
    {
     "data": {
      "text/html": [
       "<div>\n",
       "<style scoped>\n",
       "    .dataframe tbody tr th:only-of-type {\n",
       "        vertical-align: middle;\n",
       "    }\n",
       "\n",
       "    .dataframe tbody tr th {\n",
       "        vertical-align: top;\n",
       "    }\n",
       "\n",
       "    .dataframe thead th {\n",
       "        text-align: right;\n",
       "    }\n",
       "</style>\n",
       "<table border=\"1\" class=\"dataframe\">\n",
       "  <thead>\n",
       "    <tr style=\"text-align: right;\">\n",
       "      <th></th>\n",
       "      <th>Interest Rate</th>\n",
       "      <th>APY</th>\n",
       "      <th>Bonus Interest Rate</th>\n",
       "      <th>Bonus APY</th>\n",
       "      <th>Balance</th>\n",
       "    </tr>\n",
       "  </thead>\n",
       "  <tbody>\n",
       "    <tr>\n",
       "      <td>3 months</td>\n",
       "      <td>0.05%</td>\n",
       "      <td>0.05%</td>\n",
       "      <td>0.08%</td>\n",
       "      <td>0.08%</td>\n",
       "      <td>$0-$4999</td>\n",
       "    </tr>\n",
       "    <tr>\n",
       "      <td>3 months</td>\n",
       "      <td>0.05%</td>\n",
       "      <td>0.05%</td>\n",
       "      <td>0.08%</td>\n",
       "      <td>0.08%</td>\n",
       "      <td>$5000-$9999</td>\n",
       "    </tr>\n",
       "    <tr>\n",
       "      <td>3 months</td>\n",
       "      <td>0.05%</td>\n",
       "      <td>0.05%</td>\n",
       "      <td>0.08%</td>\n",
       "      <td>0.08%</td>\n",
       "      <td>$10000-$24999</td>\n",
       "    </tr>\n",
       "    <tr>\n",
       "      <td>3 months</td>\n",
       "      <td>0.05%</td>\n",
       "      <td>0.05%</td>\n",
       "      <td>0.08%</td>\n",
       "      <td>0.08%</td>\n",
       "      <td>$25000-$49999</td>\n",
       "    </tr>\n",
       "    <tr>\n",
       "      <td>3 months</td>\n",
       "      <td>0.05%</td>\n",
       "      <td>0.05%</td>\n",
       "      <td>0.08%</td>\n",
       "      <td>0.08%</td>\n",
       "      <td>$50000-$99999</td>\n",
       "    </tr>\n",
       "    <tr>\n",
       "      <td>3 months</td>\n",
       "      <td>0.05%</td>\n",
       "      <td>0.05%</td>\n",
       "      <td>0.08%</td>\n",
       "      <td>0.08%</td>\n",
       "      <td>$100,000+</td>\n",
       "    </tr>\n",
       "    <tr>\n",
       "      <td>6 months</td>\n",
       "      <td>0.10%</td>\n",
       "      <td>0.10%</td>\n",
       "      <td>0.13%</td>\n",
       "      <td>0.13%</td>\n",
       "      <td>$0-$4999</td>\n",
       "    </tr>\n",
       "    <tr>\n",
       "      <td>6 months</td>\n",
       "      <td>0.10%</td>\n",
       "      <td>0.10%</td>\n",
       "      <td>0.13%</td>\n",
       "      <td>0.13%</td>\n",
       "      <td>$5000-$9999</td>\n",
       "    </tr>\n",
       "    <tr>\n",
       "      <td>6 months</td>\n",
       "      <td>0.10%</td>\n",
       "      <td>0.10%</td>\n",
       "      <td>0.13%</td>\n",
       "      <td>0.13%</td>\n",
       "      <td>$10000-$24999</td>\n",
       "    </tr>\n",
       "    <tr>\n",
       "      <td>6 months</td>\n",
       "      <td>0.10%</td>\n",
       "      <td>0.10%</td>\n",
       "      <td>0.13%</td>\n",
       "      <td>0.13%</td>\n",
       "      <td>$25000-$49999</td>\n",
       "    </tr>\n",
       "    <tr>\n",
       "      <td>6 months</td>\n",
       "      <td>0.10%</td>\n",
       "      <td>0.10%</td>\n",
       "      <td>0.13%</td>\n",
       "      <td>0.13%</td>\n",
       "      <td>$50000-$99999</td>\n",
       "    </tr>\n",
       "    <tr>\n",
       "      <td>6 months</td>\n",
       "      <td>0.10%</td>\n",
       "      <td>0.10%</td>\n",
       "      <td>0.13%</td>\n",
       "      <td>0.13%</td>\n",
       "      <td>$100,000+</td>\n",
       "    </tr>\n",
       "    <tr>\n",
       "      <td>1 Year</td>\n",
       "      <td>0.15%</td>\n",
       "      <td>0.15%</td>\n",
       "      <td>0.18%</td>\n",
       "      <td>0.18%</td>\n",
       "      <td>$0-$4999</td>\n",
       "    </tr>\n",
       "    <tr>\n",
       "      <td>1 Year</td>\n",
       "      <td>0.15%</td>\n",
       "      <td>0.15%</td>\n",
       "      <td>0.18%</td>\n",
       "      <td>0.18%</td>\n",
       "      <td>$5000-$9999</td>\n",
       "    </tr>\n",
       "    <tr>\n",
       "      <td>1 Year</td>\n",
       "      <td>0.15%</td>\n",
       "      <td>0.15%</td>\n",
       "      <td>0.18%</td>\n",
       "      <td>0.18%</td>\n",
       "      <td>$10000-$24999</td>\n",
       "    </tr>\n",
       "    <tr>\n",
       "      <td>1 Year</td>\n",
       "      <td>0.15%</td>\n",
       "      <td>0.15%</td>\n",
       "      <td>0.18%</td>\n",
       "      <td>0.18%</td>\n",
       "      <td>$25000-$49999</td>\n",
       "    </tr>\n",
       "    <tr>\n",
       "      <td>1 Year</td>\n",
       "      <td>0.15%</td>\n",
       "      <td>0.15%</td>\n",
       "      <td>0.18%</td>\n",
       "      <td>0.18%</td>\n",
       "      <td>$50000-$99999</td>\n",
       "    </tr>\n",
       "    <tr>\n",
       "      <td>1 Year</td>\n",
       "      <td>0.15%</td>\n",
       "      <td>0.15%</td>\n",
       "      <td>0.18%</td>\n",
       "      <td>0.18%</td>\n",
       "      <td>$100,000+</td>\n",
       "    </tr>\n",
       "  </tbody>\n",
       "</table>\n",
       "</div>"
      ],
      "text/plain": [
       "         Interest Rate    APY Bonus Interest Rate Bonus APY        Balance\n",
       "3 months         0.05%  0.05%               0.08%     0.08%       $0-$4999\n",
       "3 months         0.05%  0.05%               0.08%     0.08%    $5000-$9999\n",
       "3 months         0.05%  0.05%               0.08%     0.08%  $10000-$24999\n",
       "3 months         0.05%  0.05%               0.08%     0.08%  $25000-$49999\n",
       "3 months         0.05%  0.05%               0.08%     0.08%  $50000-$99999\n",
       "3 months         0.05%  0.05%               0.08%     0.08%      $100,000+\n",
       "6 months         0.10%  0.10%               0.13%     0.13%       $0-$4999\n",
       "6 months         0.10%  0.10%               0.13%     0.13%    $5000-$9999\n",
       "6 months         0.10%  0.10%               0.13%     0.13%  $10000-$24999\n",
       "6 months         0.10%  0.10%               0.13%     0.13%  $25000-$49999\n",
       "6 months         0.10%  0.10%               0.13%     0.13%  $50000-$99999\n",
       "6 months         0.10%  0.10%               0.13%     0.13%      $100,000+\n",
       "1 Year           0.15%  0.15%               0.18%     0.18%       $0-$4999\n",
       "1 Year           0.15%  0.15%               0.18%     0.18%    $5000-$9999\n",
       "1 Year           0.15%  0.15%               0.18%     0.18%  $10000-$24999\n",
       "1 Year           0.15%  0.15%               0.18%     0.18%  $25000-$49999\n",
       "1 Year           0.15%  0.15%               0.18%     0.18%  $50000-$99999\n",
       "1 Year           0.15%  0.15%               0.18%     0.18%      $100,000+"
      ]
     },
     "execution_count": 9,
     "metadata": {},
     "output_type": "execute_result"
    }
   ],
   "source": [
    "col_ls = {0:'Interest Rate',\n",
    "          1:'APY',\n",
    "          2:'Bonus Interest Rate',\n",
    "          3:'Bonus APY',\n",
    "          4:'Balance'}\n",
    "\n",
    "\n",
    "base_ls = [cd_int_standard] + [cd_apy_standard] + [cd_b_int_standard] + [cd_b_apy_standard] + [cd_tier_standard]\n",
    "dataFrame = pd.DataFrame(base_ls).T.set_index([cd_term_standard]).rename(columns = col_ls)\n",
    "\n",
    "dataFrame.to_csv('WellsFargo.csv')\n",
    "\n",
    "dataFrame"
   ]
  }
 ],
 "metadata": {
  "kernelspec": {
   "display_name": "Python 3",
   "language": "python",
   "name": "python3"
  },
  "language_info": {
   "codemirror_mode": {
    "name": "ipython",
    "version": 3
   },
   "file_extension": ".py",
   "mimetype": "text/x-python",
   "name": "python",
   "nbconvert_exporter": "python",
   "pygments_lexer": "ipython3",
   "version": "3.7.4"
  }
 },
 "nbformat": 4,
 "nbformat_minor": 2
}
