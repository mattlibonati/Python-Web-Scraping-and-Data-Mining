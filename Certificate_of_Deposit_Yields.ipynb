{
 "cells": [
  {
   "cell_type": "markdown",
   "metadata": {},
   "source": [
    "# Nerd Wallet CD Rates"
   ]
  },
  {
   "cell_type": "markdown",
   "metadata": {},
   "source": [
    "### Overview"
   ]
  },
  {
   "cell_type": "markdown",
   "metadata": {},
   "source": [
    "One type of investment is a certificate of deposit (CD). Due to the volatilty of interest rates, banks are constantly adjusting their CD yields in-line with the federal funds rate to maintain a competative advantage. Nerd Wallet is one of many great resources for this type of information. The following code obtains data from Nerd Wallet for a few top competitors's 1, 3, and 5 year CD yields."
   ]
  },
  {
   "cell_type": "markdown",
   "metadata": {},
   "source": [
    "### Import Modules"
   ]
  },
  {
   "cell_type": "code",
   "execution_count": 1,
   "metadata": {},
   "outputs": [],
   "source": [
    "import pandas as pd\n",
    "import bs4 as bs\n",
    "import requests \n",
    "import numpy as np\n",
    "from itertools import islice"
   ]
  },
  {
   "cell_type": "markdown",
   "metadata": {},
   "source": [
    "### Extract HTML from website"
   ]
  },
  {
   "cell_type": "markdown",
   "metadata": {},
   "source": [
    "The get.(function) from Requests is used to extract the html data from the internet. Beautiful Soup is used to parse the html."
   ]
  },
  {
   "cell_type": "code",
   "execution_count": 2,
   "metadata": {},
   "outputs": [],
   "source": [
    "resp = requests.get('https://www.nerdwallet.com/best/banking/cd-rates')\n",
    "soup = bs.BeautifulSoup(resp.text, \"lxml\")"
   ]
  },
  {
   "cell_type": "markdown",
   "metadata": {},
   "source": [
    "### Obtain bank CD list"
   ]
  },
  {
   "cell_type": "markdown",
   "metadata": {},
   "source": [
    "Start by extracting the list of banks included within Nerd Wallet's analysis. Beautiful Soup is used to loop through each paragraph of the html (indicated by the 'p') for the peer name class."
   ]
  },
  {
   "cell_type": "code",
   "execution_count": 3,
   "metadata": {},
   "outputs": [
    {
     "data": {
      "text/plain": [
       "['Marcus by Goldman Sachs CD',\n",
       " 'Popular Direct CD',\n",
       " 'Barclays CD',\n",
       " 'Alliant Credit Union CD',\n",
       " 'TIAA Bank CD',\n",
       " 'CIT Bank CD',\n",
       " 'Citizens Access CD',\n",
       " 'Synchrony Bank CD',\n",
       " 'Ally Bank CD',\n",
       " 'Capital One CD',\n",
       " 'Discover Bank CD',\n",
       " 'BMO Harris Bank National Association CD']"
      ]
     },
     "execution_count": 3,
     "metadata": {},
     "output_type": "execute_result"
    }
   ],
   "source": [
    "cd_rows = []\n",
    "\n",
    "# _1_sEy _2kbwt is the peer name class\n",
    "for row in soup.findAll('p', {'class': '_1_sEy _2kbwt'}):\n",
    "    row2 = row.text\n",
    "    cd_rows.append(row2)\n",
    "\n",
    "cd_rows = [e for e in cd_rows if e not in ('3-year APY','5-year APY','Why we like it')]\n",
    "\n",
    "cd_rows"
   ]
  },
  {
   "cell_type": "markdown",
   "metadata": {},
   "source": [
    "### Obtain list of column heads "
   ]
  },
  {
   "cell_type": "markdown",
   "metadata": {},
   "source": [
    "The column headings for the bank are obtained in a similar fashion as the prior."
   ]
  },
  {
   "cell_type": "code",
   "execution_count": 4,
   "metadata": {},
   "outputs": [
    {
     "data": {
      "text/plain": [
       "['apy1Year', 'apy3Year', 'apy5Year', 'minimumDeposit']"
      ]
     },
     "execution_count": 4,
     "metadata": {},
     "output_type": "execute_result"
    }
   ],
   "source": [
    "cd_ls_cols = []\n",
    "\n",
    "cd_table = soup.find('table', {'class': 'B6cJf _3aHLX'})\n",
    "\n",
    "for row in cd_table.findAll('col'):\n",
    "    row2 = row[\"class\"][0]\n",
    "    cd_ls_cols.append(row2)\n",
    "    \n",
    "cd_ls_cols = [e for e in cd_ls_cols if e not in ('bank','learnMore')]\n",
    "  \n",
    "cd_ls_cols"
   ]
  },
  {
   "cell_type": "markdown",
   "metadata": {},
   "source": [
    "### Data on rates and minimum deposits "
   ]
  },
  {
   "cell_type": "markdown",
   "metadata": {},
   "source": [
    "Rates are obtained in a similar fashion as the prior. A list of cd rate data is created from the loop. Itertools iter(fn) and islice(fn) are used transform the list into an array with rows of four(determined from the prior step)."
   ]
  },
  {
   "cell_type": "code",
   "execution_count": 5,
   "metadata": {
    "scrolled": true
   },
   "outputs": [
    {
     "data": {
      "text/plain": [
       "[['1.60%', '1.60%', '1.65%', '$500'],\n",
       " ['0.95%', '1.05%', '1.65%', '$10,000'],\n",
       " ['1.40%', '1.40%', '1.40%', '$0'],\n",
       " ['1.40%', '1.45%', '1.50%', '$1,000'],\n",
       " ['1.45%', '1.55%', '1.65%', '$5,000'],\n",
       " ['1.45%', '1.30%', '1.70%', '$1,000'],\n",
       " ['1.50%', '1.55%', '1.65%', '$5,000'],\n",
       " ['1.50%', '1.55%', '1.65%', '$2,000'],\n",
       " ['1.50%', '1.55%', '1.60%', '$0'],\n",
       " ['1.50%', '1.40%', '1.40%', '$1'],\n",
       " ['1.50%', '1.55%', '1.60%', '$2,500'],\n",
       " ['1.65%', '1.35%', '1.50%', '$5,000']]"
      ]
     },
     "execution_count": 5,
     "metadata": {},
     "output_type": "execute_result"
    }
   ],
   "source": [
    "cd_data = []\n",
    "length_to_split = [4]\n",
    "\n",
    "for row in soup.findAll('p', {'class': '_3VQ15'}):\n",
    "    row2 = row.text\n",
    "    cd_data.append(row2)\n",
    "\n",
    "# creates new row ever 4 records    \n",
    "cd_data = iter(cd_data) \n",
    "\n",
    "cd_data = [list(islice(cd_data, elem)) \n",
    "          for elem in (length_to_split*len(cd_rows))]\n",
    "\n",
    "cd_data"
   ]
  },
  {
   "cell_type": "markdown",
   "metadata": {},
   "source": [
    "### Create data frame and send to csv"
   ]
  },
  {
   "cell_type": "markdown",
   "metadata": {},
   "source": [
    "The last step is to put the index(peers), columns(CD classes), and body(rates) together with Pandas DataFrame(fn) and export the dataframe to a cvs file with the to_csv(fn)."
   ]
  },
  {
   "cell_type": "code",
   "execution_count": 6,
   "metadata": {
    "scrolled": false
   },
   "outputs": [
    {
     "data": {
      "text/html": [
       "<div>\n",
       "<style scoped>\n",
       "    .dataframe tbody tr th:only-of-type {\n",
       "        vertical-align: middle;\n",
       "    }\n",
       "\n",
       "    .dataframe tbody tr th {\n",
       "        vertical-align: top;\n",
       "    }\n",
       "\n",
       "    .dataframe thead th {\n",
       "        text-align: right;\n",
       "    }\n",
       "</style>\n",
       "<table border=\"1\" class=\"dataframe\">\n",
       "  <thead>\n",
       "    <tr style=\"text-align: right;\">\n",
       "      <th></th>\n",
       "      <th>apy1Year</th>\n",
       "      <th>apy3Year</th>\n",
       "      <th>apy5Year</th>\n",
       "      <th>minimumDeposit</th>\n",
       "    </tr>\n",
       "  </thead>\n",
       "  <tbody>\n",
       "    <tr>\n",
       "      <td>Marcus by Goldman Sachs CD</td>\n",
       "      <td>1.60%</td>\n",
       "      <td>1.60%</td>\n",
       "      <td>1.65%</td>\n",
       "      <td>$500</td>\n",
       "    </tr>\n",
       "    <tr>\n",
       "      <td>Popular Direct CD</td>\n",
       "      <td>0.95%</td>\n",
       "      <td>1.05%</td>\n",
       "      <td>1.65%</td>\n",
       "      <td>$10,000</td>\n",
       "    </tr>\n",
       "    <tr>\n",
       "      <td>Barclays CD</td>\n",
       "      <td>1.40%</td>\n",
       "      <td>1.40%</td>\n",
       "      <td>1.40%</td>\n",
       "      <td>$0</td>\n",
       "    </tr>\n",
       "    <tr>\n",
       "      <td>Alliant Credit Union CD</td>\n",
       "      <td>1.40%</td>\n",
       "      <td>1.45%</td>\n",
       "      <td>1.50%</td>\n",
       "      <td>$1,000</td>\n",
       "    </tr>\n",
       "    <tr>\n",
       "      <td>TIAA Bank CD</td>\n",
       "      <td>1.45%</td>\n",
       "      <td>1.55%</td>\n",
       "      <td>1.65%</td>\n",
       "      <td>$5,000</td>\n",
       "    </tr>\n",
       "    <tr>\n",
       "      <td>CIT Bank CD</td>\n",
       "      <td>1.45%</td>\n",
       "      <td>1.30%</td>\n",
       "      <td>1.70%</td>\n",
       "      <td>$1,000</td>\n",
       "    </tr>\n",
       "    <tr>\n",
       "      <td>Citizens Access CD</td>\n",
       "      <td>1.50%</td>\n",
       "      <td>1.55%</td>\n",
       "      <td>1.65%</td>\n",
       "      <td>$5,000</td>\n",
       "    </tr>\n",
       "    <tr>\n",
       "      <td>Synchrony Bank CD</td>\n",
       "      <td>1.50%</td>\n",
       "      <td>1.55%</td>\n",
       "      <td>1.65%</td>\n",
       "      <td>$2,000</td>\n",
       "    </tr>\n",
       "    <tr>\n",
       "      <td>Ally Bank CD</td>\n",
       "      <td>1.50%</td>\n",
       "      <td>1.55%</td>\n",
       "      <td>1.60%</td>\n",
       "      <td>$0</td>\n",
       "    </tr>\n",
       "    <tr>\n",
       "      <td>Capital One CD</td>\n",
       "      <td>1.50%</td>\n",
       "      <td>1.40%</td>\n",
       "      <td>1.40%</td>\n",
       "      <td>$1</td>\n",
       "    </tr>\n",
       "    <tr>\n",
       "      <td>Discover Bank CD</td>\n",
       "      <td>1.50%</td>\n",
       "      <td>1.55%</td>\n",
       "      <td>1.60%</td>\n",
       "      <td>$2,500</td>\n",
       "    </tr>\n",
       "    <tr>\n",
       "      <td>BMO Harris Bank National Association CD</td>\n",
       "      <td>1.65%</td>\n",
       "      <td>1.35%</td>\n",
       "      <td>1.50%</td>\n",
       "      <td>$5,000</td>\n",
       "    </tr>\n",
       "  </tbody>\n",
       "</table>\n",
       "</div>"
      ],
      "text/plain": [
       "                                        apy1Year apy3Year apy5Year  \\\n",
       "Marcus by Goldman Sachs CD                 1.60%    1.60%    1.65%   \n",
       "Popular Direct CD                          0.95%    1.05%    1.65%   \n",
       "Barclays CD                                1.40%    1.40%    1.40%   \n",
       "Alliant Credit Union CD                    1.40%    1.45%    1.50%   \n",
       "TIAA Bank CD                               1.45%    1.55%    1.65%   \n",
       "CIT Bank CD                                1.45%    1.30%    1.70%   \n",
       "Citizens Access CD                         1.50%    1.55%    1.65%   \n",
       "Synchrony Bank CD                          1.50%    1.55%    1.65%   \n",
       "Ally Bank CD                               1.50%    1.55%    1.60%   \n",
       "Capital One CD                             1.50%    1.40%    1.40%   \n",
       "Discover Bank CD                           1.50%    1.55%    1.60%   \n",
       "BMO Harris Bank National Association CD    1.65%    1.35%    1.50%   \n",
       "\n",
       "                                        minimumDeposit  \n",
       "Marcus by Goldman Sachs CD                        $500  \n",
       "Popular Direct CD                              $10,000  \n",
       "Barclays CD                                         $0  \n",
       "Alliant Credit Union CD                         $1,000  \n",
       "TIAA Bank CD                                    $5,000  \n",
       "CIT Bank CD                                     $1,000  \n",
       "Citizens Access CD                              $5,000  \n",
       "Synchrony Bank CD                               $2,000  \n",
       "Ally Bank CD                                        $0  \n",
       "Capital One CD                                      $1  \n",
       "Discover Bank CD                                $2,500  \n",
       "BMO Harris Bank National Association CD         $5,000  "
      ]
     },
     "execution_count": 6,
     "metadata": {},
     "output_type": "execute_result"
    }
   ],
   "source": [
    "nerdWallet = pd.DataFrame(cd_data,\n",
    "                          columns = cd_ls_cols,\n",
    "                          index = cd_rows)\n",
    "nerdWallet.to_csv('nerdWallet Rates.csv')\n",
    "nerdWallet"
   ]
  },
  {
   "cell_type": "markdown",
   "metadata": {},
   "source": [
    "# Source"
   ]
  },
  {
   "cell_type": "markdown",
   "metadata": {},
   "source": [
    "Data for this script was sourced from Nerd Wallet('https://www.nerdwallet.com/best/banking/cd-rates')"
   ]
  }
 ],
 "metadata": {
  "kernelspec": {
   "display_name": "Python 3",
   "language": "python",
   "name": "python3"
  },
  "language_info": {
   "codemirror_mode": {
    "name": "ipython",
    "version": 3
   },
   "file_extension": ".py",
   "mimetype": "text/x-python",
   "name": "python",
   "nbconvert_exporter": "python",
   "pygments_lexer": "ipython3",
   "version": "3.7.4"
  }
 },
 "nbformat": 4,
 "nbformat_minor": 2
}
